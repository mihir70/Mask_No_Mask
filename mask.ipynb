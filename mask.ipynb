{
  "nbformat": 4,
  "nbformat_minor": 0,
  "metadata": {
    "colab": {
      "name": "mask.ipynb",
      "provenance": [],
      "collapsed_sections": [],
      "mount_file_id": "1qdFq9sxfeuXTheY_ig7M8eg22D_xVfxZ",
      "authorship_tag": "ABX9TyNF1bQhAWS5P6xd1R9AXyOR",
      "include_colab_link": true
    },
    "kernelspec": {
      "name": "python3",
      "display_name": "Python 3"
    },
    "language_info": {
      "name": "python"
    },
    "accelerator": "GPU"
  },
  "cells": [
    {
      "cell_type": "markdown",
      "metadata": {
        "id": "view-in-github",
        "colab_type": "text"
      },
      "source": [
        "<a href=\"https://colab.research.google.com/github/mihir70/Mask_Vs_No_Mask/blob/main/mask.ipynb\" target=\"_parent\"><img src=\"https://colab.research.google.com/assets/colab-badge.svg\" alt=\"Open In Colab\"/></a>"
      ]
    },
    {
      "cell_type": "code",
      "metadata": {
        "id": "4Lq64cJmBh2g"
      },
      "source": [
        "import seaborn as sns\n",
        "import pandas as pd\n",
        "import numpy as np\n",
        "import tensorflow as tf\n",
        "from tensorflow import keras\n",
        "import matplotlib.pyplot as plt\n",
        "import os\n",
        "import PIL\n",
        "import cv2\n",
        "from random import shuffle\n",
        "from tensorflow.keras.utils import to_categorical\n",
        "from sklearn.preprocessing import LabelBinarizer\n",
        "from sklearn.model_selection import train_test_split"
      ],
      "execution_count": 1,
      "outputs": []
    },
    {
      "cell_type": "code",
      "metadata": {
        "colab": {
          "base_uri": "https://localhost:8080/"
        },
        "id": "VcN2M5BBBujy",
        "outputId": "efed706d-7881-481b-804b-20b4cd181a8f"
      },
      "source": [
        "from glob import glob\n",
        "non=list(glob('/content/drive/MyDrive/Mask_vs_No_Mask/data/anotherdataset/nomask/*.png'))\n",
        "non=non[:2000]\n",
        "len(non)"
      ],
      "execution_count": 3,
      "outputs": [
        {
          "output_type": "execute_result",
          "data": {
            "text/plain": [
              "2000"
            ]
          },
          "metadata": {
            "tags": []
          },
          "execution_count": 3
        }
      ]
    },
    {
      "cell_type": "code",
      "metadata": {
        "id": "7vKxFB95CgDx"
      },
      "source": [
        "mask=list(glob('/content/drive/MyDrive/Mask_vs_No_Mask/data/anotherdataset/mask/*.png'))\n",
        "mask=mask[:2000]"
      ],
      "execution_count": 4,
      "outputs": []
    },
    {
      "cell_type": "code",
      "metadata": {
        "id": "M9AM5zz0Gdax"
      },
      "source": [
        "non_im=[]\n",
        "for i in non:\n",
        "  img=cv2.imread(i)\n",
        "  img=cv2.resize(img,(128,128))\n",
        "  non_im.append(img)\n",
        "\n"
      ],
      "execution_count": 8,
      "outputs": []
    },
    {
      "cell_type": "code",
      "metadata": {
        "colab": {
          "base_uri": "https://localhost:8080/"
        },
        "id": "vGJdezWPfSiM",
        "outputId": "aa52cfed-6ac7-40a5-d2f1-20da4ddf3951"
      },
      "source": [
        "len(non_im)"
      ],
      "execution_count": 10,
      "outputs": [
        {
          "output_type": "execute_result",
          "data": {
            "text/plain": [
              "2000"
            ]
          },
          "metadata": {
            "tags": []
          },
          "execution_count": 10
        }
      ]
    },
    {
      "cell_type": "code",
      "metadata": {
        "id": "U6lCiUUyfv7p"
      },
      "source": [
        "mask_im=[]\n",
        "for i in mask:\n",
        "  img=cv2.imread(i)\n",
        "  img=cv2.resize(img,(128,128))\n",
        "  mask_im.append(img)\n"
      ],
      "execution_count": 11,
      "outputs": []
    },
    {
      "cell_type": "code",
      "metadata": {
        "colab": {
          "base_uri": "https://localhost:8080/"
        },
        "id": "kcJjXJxDxL-G",
        "outputId": "2d1a7e4c-6405-4281-8bde-ae5336389f56"
      },
      "source": [
        "len(mask_im)"
      ],
      "execution_count": 12,
      "outputs": [
        {
          "output_type": "execute_result",
          "data": {
            "text/plain": [
              "2000"
            ]
          },
          "metadata": {
            "tags": []
          },
          "execution_count": 12
        }
      ]
    },
    {
      "cell_type": "code",
      "metadata": {
        "id": "_siuUSVBaIPv"
      },
      "source": [
        "img_rows=128\n",
        "img_cols=128\n",
        "non_im=np.array(non_im)/255.0\n",
        "mask_im=np.array(mask_im)/255.0\n",
        "\n",
        "non_im = np.reshape(non_im, (non_im.shape[0], img_rows, img_cols, 3))\n",
        "mask_im = np.reshape(mask_im, (mask_im.shape[0], img_rows, img_cols, 3))"
      ],
      "execution_count": 13,
      "outputs": []
    },
    {
      "cell_type": "code",
      "metadata": {
        "colab": {
          "base_uri": "https://localhost:8080/"
        },
        "id": "9yfkWvg6yjT-",
        "outputId": "655c28d2-d24b-4acb-e47f-c549da7c1ef4"
      },
      "source": [
        "type(non_im)\n",
        "print(non_im.shape)\n",
        "print(non_im[1])"
      ],
      "execution_count": 14,
      "outputs": [
        {
          "output_type": "stream",
          "text": [
            "(2000, 128, 128, 3)\n",
            "[[[0.45098039 0.45490196 0.45098039]\n",
            "  [0.45490196 0.45490196 0.45098039]\n",
            "  [0.45098039 0.45098039 0.44705882]\n",
            "  ...\n",
            "  [0.45490196 0.45882353 0.45098039]\n",
            "  [0.45490196 0.45882353 0.45098039]\n",
            "  [0.45490196 0.45882353 0.44705882]]\n",
            "\n",
            " [[0.98039216 0.98431373 0.97647059]\n",
            "  [0.98823529 0.99215686 0.98431373]\n",
            "  [0.98431373 0.98823529 0.98431373]\n",
            "  ...\n",
            "  [0.99607843 1.         0.99215686]\n",
            "  [0.99607843 1.         0.99215686]\n",
            "  [0.99607843 1.         0.98823529]]\n",
            "\n",
            " [[0.98039216 0.98431373 0.97647059]\n",
            "  [0.97647059 0.98431373 0.97254902]\n",
            "  [0.98039216 0.98431373 0.97647059]\n",
            "  ...\n",
            "  [0.99215686 0.99607843 0.98823529]\n",
            "  [0.99215686 0.99607843 0.99215686]\n",
            "  [0.99215686 0.99607843 0.98431373]]\n",
            "\n",
            " ...\n",
            "\n",
            " [[0.36078431 0.28235294 0.15686275]\n",
            "  [0.67058824 0.60784314 0.47843137]\n",
            "  [0.83529412 0.78823529 0.66666667]\n",
            "  ...\n",
            "  [0.58039216 0.68235294 0.77647059]\n",
            "  [0.55686275 0.65490196 0.74901961]\n",
            "  [0.54901961 0.64313725 0.7372549 ]]\n",
            "\n",
            " [[0.4627451  0.38823529 0.25490196]\n",
            "  [0.78823529 0.73333333 0.60392157]\n",
            "  [0.82745098 0.79215686 0.66666667]\n",
            "  ...\n",
            "  [0.57647059 0.67843137 0.77254902]\n",
            "  [0.55686275 0.65882353 0.75294118]\n",
            "  [0.56862745 0.6627451  0.75686275]]\n",
            "\n",
            " [[0.58823529 0.52941176 0.40392157]\n",
            "  [0.83921569 0.79215686 0.66666667]\n",
            "  [0.83137255 0.80392157 0.68627451]\n",
            "  ...\n",
            "  [0.57254902 0.67058824 0.76470588]\n",
            "  [0.56078431 0.65882353 0.75294118]\n",
            "  [0.55686275 0.65098039 0.74509804]]]\n"
          ],
          "name": "stdout"
        }
      ]
    },
    {
      "cell_type": "code",
      "metadata": {
        "id": "-19GCvpganhv"
      },
      "source": [
        "data=np.concatenate((non_im,mask_im),axis=0)\n",
        "no=np.empty(2000)\n",
        "no.fill(0) #0 for no mask\n",
        "ye=np.empty(2000)\n",
        "ye.fill(1)\n",
        "label=np.concatenate((no,ye))"
      ],
      "execution_count": 15,
      "outputs": []
    },
    {
      "cell_type": "code",
      "metadata": {
        "colab": {
          "base_uri": "https://localhost:8080/"
        },
        "id": "3KPQqYOtzUjs",
        "outputId": "dcaace46-1458-4af7-c229-534233860f2c"
      },
      "source": [
        "data[0]"
      ],
      "execution_count": null,
      "outputs": [
        {
          "output_type": "execute_result",
          "data": {
            "text/plain": [
              "array([[[ 71, 108, 116],\n",
              "        [ 62,  98, 106],\n",
              "        [ 52,  88,  95],\n",
              "        ...,\n",
              "        [180, 198, 199],\n",
              "        [178, 196, 197],\n",
              "        [179, 197, 198]],\n",
              "\n",
              "       [[ 76, 112, 121],\n",
              "        [ 65, 101, 109],\n",
              "        [ 52,  86,  93],\n",
              "        ...,\n",
              "        [180, 198, 199],\n",
              "        [179, 197, 198],\n",
              "        [179, 197, 198]],\n",
              "\n",
              "       [[ 76, 110, 119],\n",
              "        [ 69, 103, 110],\n",
              "        [ 57,  91,  96],\n",
              "        ...,\n",
              "        [181, 199, 200],\n",
              "        [179, 197, 198],\n",
              "        [179, 197, 198]],\n",
              "\n",
              "       ...,\n",
              "\n",
              "       [[239, 250, 240],\n",
              "        [210, 225, 215],\n",
              "        [162, 180, 171],\n",
              "        ...,\n",
              "        [ 28,  25,  21],\n",
              "        [ 28,  25,  20],\n",
              "        [ 28,  25,  20]],\n",
              "\n",
              "       [[241, 252, 242],\n",
              "        [212, 226, 216],\n",
              "        [160, 177, 168],\n",
              "        ...,\n",
              "        [ 27,  24,  20],\n",
              "        [ 27,  24,  19],\n",
              "        [ 27,  24,  19]],\n",
              "\n",
              "       [[241, 253, 243],\n",
              "        [212, 226, 216],\n",
              "        [157, 172, 164],\n",
              "        ...,\n",
              "        [ 27,  24,  20],\n",
              "        [ 26,  23,  19],\n",
              "        [ 26,  23,  18]]], dtype=uint8)"
            ]
          },
          "metadata": {
            "tags": []
          },
          "execution_count": 23
        }
      ]
    },
    {
      "cell_type": "code",
      "metadata": {
        "id": "v1M07CyFd4mU"
      },
      "source": [
        "lb = LabelBinarizer()\n",
        "label = lb.fit_transform(label)\n",
        "label = to_categorical(label)\n",
        "label = np.array(label)"
      ],
      "execution_count": 16,
      "outputs": []
    },
    {
      "cell_type": "code",
      "metadata": {
        "id": "Dcp2BvysbeDt"
      },
      "source": [
        "(X_train, X_test, y_train, y_test) = train_test_split(\n",
        "    data, label, test_size=0.3, random_state=0)\n"
      ],
      "execution_count": 17,
      "outputs": []
    },
    {
      "cell_type": "code",
      "metadata": {
        "colab": {
          "base_uri": "https://localhost:8080/"
        },
        "id": "DAE5J58Yzl7P",
        "outputId": "fd05e555-22ce-4fc3-e546-3c18e3003225"
      },
      "source": [
        "len(X_train)"
      ],
      "execution_count": null,
      "outputs": [
        {
          "output_type": "execute_result",
          "data": {
            "text/plain": [
              "3418"
            ]
          },
          "metadata": {
            "tags": []
          },
          "execution_count": 27
        }
      ]
    },
    {
      "cell_type": "code",
      "metadata": {
        "id": "pqTvimPGzwMG"
      },
      "source": [
        "from tensorflow import keras\n",
        "from tensorflow.keras import layers\n",
        "from tensorflow.keras.models import Sequential"
      ],
      "execution_count": 18,
      "outputs": []
    },
    {
      "cell_type": "code",
      "metadata": {
        "id": "tmOJ2SMd0-qj"
      },
      "source": [
        "model = Sequential([\n",
        "    layers.Conv2D(128, (3, 3), padding='same', activation='relu',\n",
        "                  input_shape=(img_rows, img_cols, 3)),\n",
        "    layers.MaxPooling2D(),\n",
        "    layers.Conv2D(64, (3, 3), padding='same', activation='relu'),\n",
        "    layers.MaxPooling2D(),\n",
        "    layers.Conv2D(64, (3, 3), padding='same', activation='relu'),\n",
        "    layers.MaxPooling2D(),\n",
        "    layers.Conv2D(32, (3, 3), padding='same', activation='relu'),\n",
        "    layers.MaxPooling2D(),\n",
        "    layers.Flatten(),\n",
        "    layers.Dense(128, activation='relu'),\n",
        "    layers.Dropout(0.3),\n",
        "    layers.Dense(2, activation='softmax')\n",
        "])"
      ],
      "execution_count": 55,
      "outputs": []
    },
    {
      "cell_type": "code",
      "metadata": {
        "id": "ULYDmMok1L0Y"
      },
      "source": [
        "model.compile(optimizer='adam',\n",
        "              loss=tf.keras.losses.BinaryCrossentropy(from_logits=True),\n",
        "              metrics=['accuracy'])"
      ],
      "execution_count": 56,
      "outputs": []
    },
    {
      "cell_type": "code",
      "metadata": {
        "colab": {
          "base_uri": "https://localhost:8080/"
        },
        "id": "35rnBsyD1Oqx",
        "outputId": "50424564-ae7f-41ac-c4c7-7070bb74bf1e"
      },
      "source": [
        "model.summary()"
      ],
      "execution_count": 57,
      "outputs": [
        {
          "output_type": "stream",
          "text": [
            "Model: \"sequential_6\"\n",
            "_________________________________________________________________\n",
            "Layer (type)                 Output Shape              Param #   \n",
            "=================================================================\n",
            "conv2d_21 (Conv2D)           (None, 128, 128, 128)     3584      \n",
            "_________________________________________________________________\n",
            "max_pooling2d_21 (MaxPooling (None, 64, 64, 128)       0         \n",
            "_________________________________________________________________\n",
            "conv2d_22 (Conv2D)           (None, 64, 64, 64)        73792     \n",
            "_________________________________________________________________\n",
            "max_pooling2d_22 (MaxPooling (None, 32, 32, 64)        0         \n",
            "_________________________________________________________________\n",
            "conv2d_23 (Conv2D)           (None, 32, 32, 64)        36928     \n",
            "_________________________________________________________________\n",
            "max_pooling2d_23 (MaxPooling (None, 16, 16, 64)        0         \n",
            "_________________________________________________________________\n",
            "conv2d_24 (Conv2D)           (None, 16, 16, 32)        18464     \n",
            "_________________________________________________________________\n",
            "max_pooling2d_24 (MaxPooling (None, 8, 8, 32)          0         \n",
            "_________________________________________________________________\n",
            "flatten_6 (Flatten)          (None, 2048)              0         \n",
            "_________________________________________________________________\n",
            "dense_12 (Dense)             (None, 128)               262272    \n",
            "_________________________________________________________________\n",
            "dropout_7 (Dropout)          (None, 128)               0         \n",
            "_________________________________________________________________\n",
            "dense_13 (Dense)             (None, 2)                 258       \n",
            "=================================================================\n",
            "Total params: 395,298\n",
            "Trainable params: 395,298\n",
            "Non-trainable params: 0\n",
            "_________________________________________________________________\n"
          ],
          "name": "stdout"
        }
      ]
    },
    {
      "cell_type": "code",
      "metadata": {
        "colab": {
          "base_uri": "https://localhost:8080/"
        },
        "id": "AXEzh01w1QfV",
        "outputId": "f166f5ac-404c-4809-e62a-a1498435a009"
      },
      "source": [
        "model.fit(X_train,y_train,epochs=20)"
      ],
      "execution_count": 58,
      "outputs": [
        {
          "output_type": "stream",
          "text": [
            "Epoch 1/20\n"
          ],
          "name": "stdout"
        },
        {
          "output_type": "stream",
          "text": [
            "/usr/local/lib/python3.7/dist-packages/tensorflow/python/keras/backend.py:5017: UserWarning: \"`binary_crossentropy` received `from_logits=True`, but the `output` argument was produced by a sigmoid or softmax activation and thus does not represent logits. Was this intended?\"\n",
            "  '\"`binary_crossentropy` received `from_logits=True`, but the `output`'\n"
          ],
          "name": "stderr"
        },
        {
          "output_type": "stream",
          "text": [
            "88/88 [==============================] - 4s 35ms/step - loss: 0.3961 - accuracy: 0.8150\n",
            "Epoch 2/20\n",
            "88/88 [==============================] - 3s 35ms/step - loss: 0.2018 - accuracy: 0.9254\n",
            "Epoch 3/20\n",
            "88/88 [==============================] - 3s 34ms/step - loss: 0.1605 - accuracy: 0.9400\n",
            "Epoch 4/20\n",
            "88/88 [==============================] - 3s 34ms/step - loss: 0.1233 - accuracy: 0.9554\n",
            "Epoch 5/20\n",
            "88/88 [==============================] - 3s 35ms/step - loss: 0.0955 - accuracy: 0.9646\n",
            "Epoch 6/20\n",
            "88/88 [==============================] - 3s 35ms/step - loss: 0.1118 - accuracy: 0.9575\n",
            "Epoch 7/20\n",
            "88/88 [==============================] - 3s 35ms/step - loss: 0.0897 - accuracy: 0.9689\n",
            "Epoch 8/20\n",
            "88/88 [==============================] - 3s 35ms/step - loss: 0.0695 - accuracy: 0.9750\n",
            "Epoch 9/20\n",
            "88/88 [==============================] - 3s 35ms/step - loss: 0.0609 - accuracy: 0.9807\n",
            "Epoch 10/20\n",
            "88/88 [==============================] - 3s 35ms/step - loss: 0.0491 - accuracy: 0.9846\n",
            "Epoch 11/20\n",
            "88/88 [==============================] - 3s 35ms/step - loss: 0.0489 - accuracy: 0.9825\n",
            "Epoch 12/20\n",
            "88/88 [==============================] - 3s 35ms/step - loss: 0.0413 - accuracy: 0.9861\n",
            "Epoch 13/20\n",
            "88/88 [==============================] - 3s 35ms/step - loss: 0.0314 - accuracy: 0.9904\n",
            "Epoch 14/20\n",
            "88/88 [==============================] - 3s 35ms/step - loss: 0.0203 - accuracy: 0.9918\n",
            "Epoch 15/20\n",
            "88/88 [==============================] - 3s 35ms/step - loss: 0.0117 - accuracy: 0.9961\n",
            "Epoch 16/20\n",
            "88/88 [==============================] - 3s 35ms/step - loss: 0.0340 - accuracy: 0.9871\n",
            "Epoch 17/20\n",
            "88/88 [==============================] - 3s 35ms/step - loss: 0.0153 - accuracy: 0.9954\n",
            "Epoch 18/20\n",
            "88/88 [==============================] - 3s 35ms/step - loss: 0.0120 - accuracy: 0.9961\n",
            "Epoch 19/20\n",
            "88/88 [==============================] - 3s 35ms/step - loss: 0.0115 - accuracy: 0.9950\n",
            "Epoch 20/20\n",
            "88/88 [==============================] - 3s 35ms/step - loss: 0.0031 - accuracy: 0.9993\n"
          ],
          "name": "stdout"
        },
        {
          "output_type": "execute_result",
          "data": {
            "text/plain": [
              "<tensorflow.python.keras.callbacks.History at 0x7f6bb84faa10>"
            ]
          },
          "metadata": {
            "tags": []
          },
          "execution_count": 58
        }
      ]
    },
    {
      "cell_type": "code",
      "metadata": {
        "id": "tc7v3VBu23zw"
      },
      "source": [
        "prediction=model.predict(X_test)\n",
        "y_pred=lb.inverse_transform(prediction)\n",
        "y_test=lb.inverse_transform(y_test)\n"
      ],
      "execution_count": 59,
      "outputs": []
    },
    {
      "cell_type": "code",
      "metadata": {
        "colab": {
          "base_uri": "https://localhost:8080/"
        },
        "id": "ZE5UQSVh6zKi",
        "outputId": "b8c241da-0ce6-4122-faf8-ebbcd576d9ff"
      },
      "source": [
        "from sklearn.metrics import accuracy_score\n",
        "accuracy_score(y_test, y_pred)\n"
      ],
      "execution_count": 60,
      "outputs": [
        {
          "output_type": "execute_result",
          "data": {
            "text/plain": [
              "0.9766666666666667"
            ]
          },
          "metadata": {
            "tags": []
          },
          "execution_count": 60
        }
      ]
    },
    {
      "cell_type": "code",
      "metadata": {
        "colab": {
          "base_uri": "https://localhost:8080/"
        },
        "id": "7UXJudnvv_iZ",
        "outputId": "521ea53d-0f7f-43d9-c8b0-8385e06e0183"
      },
      "source": [
        "model.save('/content/drive/MyDrive/Mask_vs_No_Mask/model')\n"
      ],
      "execution_count": 62,
      "outputs": [
        {
          "output_type": "stream",
          "text": [
            "INFO:tensorflow:Assets written to: /content/drive/MyDrive/Mask_vs_No_Mask/model/assets\n"
          ],
          "name": "stdout"
        }
      ]
    },
    {
      "cell_type": "code",
      "metadata": {
        "id": "Zg8kOMq57USW"
      },
      "source": [
        ""
      ],
      "execution_count": null,
      "outputs": []
    }
  ]
}
